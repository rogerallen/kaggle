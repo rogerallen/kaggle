{
 "cells": [
  {
   "cell_type": "code",
   "execution_count": 1,
   "metadata": {
    "collapsed": true
   },
   "outputs": [],
   "source": [
    "import os, sys\n",
    "from glob import glob\n",
    "from shutil import copyfile\n",
    "import numpy as np\n",
    "#sys.path.insert(1, os.path.join(sys.path[0], '../utils'))"
   ]
  },
  {
   "cell_type": "code",
   "execution_count": 2,
   "metadata": {
    "collapsed": false
   },
   "outputs": [
    {
     "name": "stdout",
     "output_type": "stream",
     "text": [
      "categories: ['c0', 'c1', 'c2', 'c3', 'c4', 'c5', 'c6', 'c7', 'c8', 'c9']\n"
     ]
    }
   ],
   "source": [
    "current_dir = os.getcwd()\n",
    "LESSON_HOME_DIR = current_dir\n",
    "DATA_HOME_DIR = current_dir+'/data'\n",
    "categories = sorted([os.path.basename(x) for x in glob(DATA_HOME_DIR+'/train/*')])\n",
    "print(\"categories: %s\"%(categories))"
   ]
  },
  {
   "cell_type": "markdown",
   "metadata": {},
   "source": [
    "# Create validation set and sample"
   ]
  },
  {
   "cell_type": "code",
   "execution_count": 3,
   "metadata": {
    "collapsed": false
   },
   "outputs": [
    {
     "name": "stdout",
     "output_type": "stream",
     "text": [
      "/home/rallen/Documents/Devel/PracticalDL4C/kaggle/statefarm/data\n"
     ]
    }
   ],
   "source": [
    "#Create directories\n",
    "%cd $DATA_HOME_DIR"
   ]
  },
  {
   "cell_type": "code",
   "execution_count": null,
   "metadata": {
    "collapsed": true
   },
   "outputs": [],
   "source": [
    "# did this once\n",
    "%mkdir valid\n",
    "%mkdir results\n",
    "%mkdir -p sample/train\n",
    "%mkdir -p sample/test\n",
    "%mkdir -p sample/valid\n",
    "%mkdir -p sample/results\n",
    "%mkdir -p test/unknown"
   ]
  },
  {
   "cell_type": "code",
   "execution_count": null,
   "metadata": {
    "collapsed": false
   },
   "outputs": [],
   "source": [
    "# Create subdirectories\n",
    "for c in categories:\n",
    "    %mkdir -p valid/{c}\n",
    "    %mkdir -p sample/train/{c}\n",
    "    %mkdir -p sample/valid/{c}"
   ]
  },
  {
   "cell_type": "code",
   "execution_count": 4,
   "metadata": {
    "collapsed": false
   },
   "outputs": [
    {
     "name": "stdout",
     "output_type": "stream",
     "text": [
      "/home/rallen/Documents/Devel/PracticalDL4C/kaggle/statefarm/data/train\n"
     ]
    }
   ],
   "source": [
    "%cd $DATA_HOME_DIR/train"
   ]
  },
  {
   "cell_type": "code",
   "execution_count": null,
   "metadata": {
    "collapsed": false
   },
   "outputs": [],
   "source": [
    "# how many images we talking about?\n",
    "for c in categories:\n",
    "    g = glob(c+\"/*.jpg\")\n",
    "    print c, len(g)"
   ]
  },
  {
   "cell_type": "markdown",
   "metadata": {},
   "source": [
    "original output:\n",
    "\n",
    "```\n",
    "c0 2489\n",
    "c1 2267\n",
    "c2 2317\n",
    "c3 2346\n",
    "c4 2326\n",
    "c5 2312\n",
    "c6 2325\n",
    "c7 2002\n",
    "c8 1911\n",
    "c9 2129\n",
    "```"
   ]
  },
  {
   "cell_type": "code",
   "execution_count": 10,
   "metadata": {
    "collapsed": true
   },
   "outputs": [],
   "source": [
    "# going to take 20% or ~460 in each category for validation\n",
    "validation_ratio = 0.2"
   ]
  },
  {
   "cell_type": "code",
   "execution_count": 12,
   "metadata": {
    "collapsed": false
   },
   "outputs": [
    {
     "name": "stdout",
     "output_type": "stream",
     "text": [
      "497\n",
      "453\n",
      "463\n",
      "469\n",
      "465\n",
      "462\n",
      "465\n",
      "400\n",
      "382\n",
      "425\n"
     ]
    }
   ],
   "source": [
    "for c in categories:\n",
    "    g = glob(c+\"/*.jpg\")\n",
    "    shuf = np.random.permutation(g)\n",
    "    num_valid = int(validation_ratio*len(g))\n",
    "    print num_valid\n",
    "    for i in range(num_valid): \n",
    "        #print shuf[i], DATA_HOME_DIR+'/valid/' + shuf[i]\n",
    "        os.rename(shuf[i], DATA_HOME_DIR+'/valid/' + shuf[i])"
   ]
  },
  {
   "cell_type": "code",
   "execution_count": 13,
   "metadata": {
    "collapsed": true
   },
   "outputs": [],
   "source": [
    "# now create the sample train subset of 20 per category\n",
    "for c in categories:\n",
    "    g = glob(c+\"/*.jpg\")\n",
    "    shuf = np.random.permutation(g)\n",
    "    for i in range(20): \n",
    "        #print shuf[i], DATA_HOME_DIR+'/sample/train/' + shuf[i]\n",
    "        copyfile(shuf[i], DATA_HOME_DIR+'/sample/train/' + shuf[i])"
   ]
  },
  {
   "cell_type": "code",
   "execution_count": 14,
   "metadata": {
    "collapsed": false
   },
   "outputs": [
    {
     "name": "stdout",
     "output_type": "stream",
     "text": [
      "/home/rallen/Documents/Devel/PracticalDL4C/kaggle/statefarm/data/valid\n"
     ]
    }
   ],
   "source": [
    "%cd $DATA_HOME_DIR/valid"
   ]
  },
  {
   "cell_type": "code",
   "execution_count": 15,
   "metadata": {
    "collapsed": true
   },
   "outputs": [],
   "source": [
    "# now create the sample valid subset of 5 per category\n",
    "for c in categories:\n",
    "    g = glob(c+\"/*.jpg\")\n",
    "    shuf = np.random.permutation(g)\n",
    "    for i in range(5): \n",
    "        #print shuf[i], DATA_HOME_DIR+'/sample/valid/' + shuf[i]\n",
    "        copyfile(shuf[i], DATA_HOME_DIR+'/sample/valid/' + shuf[i])"
   ]
  },
  {
   "cell_type": "code",
   "execution_count": 20,
   "metadata": {
    "collapsed": false
   },
   "outputs": [
    {
     "name": "stdout",
     "output_type": "stream",
     "text": [
      "17962\n",
      "4500\n",
      "79726\n",
      "219\n",
      "69\n"
     ]
    }
   ],
   "source": [
    "!ls {DATA_HOME_DIR}/train/* |wc -l\n",
    "!ls {DATA_HOME_DIR}/valid/* |wc -l\n",
    "!ls {DATA_HOME_DIR}/test/* |wc -l\n",
    "!ls {DATA_HOME_DIR}/sample/train/* |wc -l\n",
    "!ls {DATA_HOME_DIR}/sample/valid/* |wc -l"
   ]
  },
  {
   "cell_type": "code",
   "execution_count": 17,
   "metadata": {
    "collapsed": false
   },
   "outputs": [
    {
     "name": "stdout",
     "output_type": "stream",
     "text": [
      "/home/rallen/Documents/Devel/PracticalDL4C/kaggle/statefarm/data/test\n"
     ]
    }
   ],
   "source": [
    "# Create single 'unknown' class for test set\n",
    "%cd $DATA_HOME_DIR/test\n",
    "%mv *.jpg unknown"
   ]
  },
  {
   "cell_type": "code",
   "execution_count": 5,
   "metadata": {
    "collapsed": false
   },
   "outputs": [
    {
     "name": "stdout",
     "output_type": "stream",
     "text": [
      "/home/rallen/Documents/Devel/PracticalDL4C/kaggle/statefarm/data/sample/test\n"
     ]
    }
   ],
   "source": [
    "# and sample test, too\n",
    "%cd $DATA_HOME_DIR/sample/test\n",
    "%mkdir unknown\n"
   ]
  },
  {
   "cell_type": "code",
   "execution_count": 11,
   "metadata": {
    "collapsed": false
   },
   "outputs": [
    {
     "name": "stdout",
     "output_type": "stream",
     "text": [
      "/home/rallen/Documents/Devel/PracticalDL4C/kaggle/statefarm/data/test/unknown\n"
     ]
    }
   ],
   "source": [
    "%cd $DATA_HOME_DIR/test/unknown\n",
    "g = glob(\"*.jpg\")\n",
    "shuf = np.random.permutation(g)\n",
    "for i in range(100):\n",
    "    #print shuf[i], DATA_HOME_DIR+'/sample/test/unknown/'+shuf[i]\n",
    "    copyfile(shuf[i], DATA_HOME_DIR+'/sample/test/unknown/'+shuf[i])"
   ]
  },
  {
   "cell_type": "code",
   "execution_count": null,
   "metadata": {
    "collapsed": true
   },
   "outputs": [],
   "source": []
  }
 ],
 "metadata": {
  "kernelspec": {
   "display_name": "Python [conda root]",
   "language": "python",
   "name": "conda-root-py"
  },
  "language_info": {
   "codemirror_mode": {
    "name": "ipython",
    "version": 2
   },
   "file_extension": ".py",
   "mimetype": "text/x-python",
   "name": "python",
   "nbconvert_exporter": "python",
   "pygments_lexer": "ipython2",
   "version": "2.7.13"
  }
 },
 "nbformat": 4,
 "nbformat_minor": 2
}
