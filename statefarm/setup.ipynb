{
 "cells": [
  {
   "cell_type": "code",
   "execution_count": 1,
   "metadata": {
    "collapsed": false
   },
   "outputs": [],
   "source": [
    "%matplotlib inline\n",
    "import os, sys\n",
    "from glob import glob\n",
    "from shutil import copyfile\n",
    "import numpy as np\n",
    "import pandas as pd\n",
    "#from PIL import Image\n",
    "from IPython.display import Image, HTML, display\n",
    "\n",
    "#sys.path.insert(1, os.path.join(sys.path[0], '../utils'))"
   ]
  },
  {
   "cell_type": "code",
   "execution_count": 2,
   "metadata": {
    "collapsed": false
   },
   "outputs": [
    {
     "name": "stdout",
     "output_type": "stream",
     "text": [
      "categories: ['c0', 'c1', 'c2', 'c3', 'c4', 'c5', 'c6', 'c7', 'c8', 'c9']\n"
     ]
    }
   ],
   "source": [
    "current_dir = os.getcwd()\n",
    "LESSON_HOME_DIR = current_dir\n",
    "DATA_HOME_DIR = current_dir+'/data'\n",
    "categories = sorted([os.path.basename(x) for x in glob(DATA_HOME_DIR+'/train/*')])\n",
    "print(\"categories: %s\"%(categories))"
   ]
  },
  {
   "cell_type": "markdown",
   "metadata": {},
   "source": [
    "# Did not do all of this in order, so don't just blindly follow this.  \n",
    "# Passed through this once & then had to come back & fix things up again."
   ]
  },
  {
   "cell_type": "markdown",
   "metadata": {},
   "source": [
    "# Create validation set and sample"
   ]
  },
  {
   "cell_type": "code",
   "execution_count": 3,
   "metadata": {
    "collapsed": false
   },
   "outputs": [
    {
     "name": "stdout",
     "output_type": "stream",
     "text": [
      "/home/rallen/Documents/Devel/PracticalDL4C/kaggle/statefarm/data\n"
     ]
    }
   ],
   "source": [
    "#Create directories\n",
    "%cd $DATA_HOME_DIR"
   ]
  },
  {
   "cell_type": "code",
   "execution_count": null,
   "metadata": {
    "collapsed": true
   },
   "outputs": [],
   "source": [
    "# did this once\n",
    "%mkdir valid\n",
    "%mkdir results\n",
    "%mkdir -p sample/train\n",
    "%mkdir -p sample/test\n",
    "%mkdir -p sample/valid\n",
    "%mkdir -p sample/results\n",
    "%mkdir -p test/unknown"
   ]
  },
  {
   "cell_type": "code",
   "execution_count": null,
   "metadata": {
    "collapsed": false
   },
   "outputs": [],
   "source": [
    "# Create subdirectories\n",
    "for c in categories:\n",
    "    %mkdir -p valid/{c}\n",
    "    %mkdir -p sample/train/{c}\n",
    "    %mkdir -p sample/valid/{c}"
   ]
  },
  {
   "cell_type": "code",
   "execution_count": 23,
   "metadata": {
    "collapsed": false
   },
   "outputs": [
    {
     "name": "stdout",
     "output_type": "stream",
     "text": [
      "/home/rallen/Documents/Devel/PracticalDL4C/kaggle/statefarm/data/train\n"
     ]
    }
   ],
   "source": [
    "%cd $DATA_HOME_DIR/train"
   ]
  },
  {
   "cell_type": "code",
   "execution_count": 24,
   "metadata": {
    "collapsed": false
   },
   "outputs": [
    {
     "name": "stdout",
     "output_type": "stream",
     "text": [
      "c0 2198\n",
      "c1 1981\n",
      "c2 2034\n",
      "c3 2065\n",
      "c4 2037\n",
      "c5 2025\n",
      "c6 2048\n",
      "c7 1763\n",
      "c8 1663\n",
      "c9 1855\n"
     ]
    }
   ],
   "source": [
    "# how many images we talking about?\n",
    "for c in categories:\n",
    "    g = glob(c+\"/*.jpg\")\n",
    "    print c, len(g)"
   ]
  },
  {
   "cell_type": "markdown",
   "metadata": {},
   "source": [
    "original output:\n",
    "\n",
    "```\n",
    "c0 2489\n",
    "c1 2267\n",
    "c2 2317\n",
    "c3 2346\n",
    "c4 2326\n",
    "c5 2312\n",
    "c6 2325\n",
    "c7 2002\n",
    "c8 1911\n",
    "c9 2129\n",
    "```"
   ]
  },
  {
   "cell_type": "code",
   "execution_count": 10,
   "metadata": {
    "collapsed": true
   },
   "outputs": [],
   "source": [
    "# going to take 20% or ~460 in each category for validation\n",
    "validation_ratio = 0.2"
   ]
  },
  {
   "cell_type": "code",
   "execution_count": 12,
   "metadata": {
    "collapsed": false
   },
   "outputs": [
    {
     "name": "stdout",
     "output_type": "stream",
     "text": [
      "497\n",
      "453\n",
      "463\n",
      "469\n",
      "465\n",
      "462\n",
      "465\n",
      "400\n",
      "382\n",
      "425\n"
     ]
    }
   ],
   "source": [
    "for c in categories:\n",
    "    g = glob(c+\"/*.jpg\")\n",
    "    shuf = np.random.permutation(g)\n",
    "    num_valid = int(validation_ratio*len(g))\n",
    "    print num_valid\n",
    "    for i in range(num_valid): \n",
    "        #print shuf[i], DATA_HOME_DIR+'/valid/' + shuf[i]\n",
    "        os.rename(shuf[i], DATA_HOME_DIR+'/valid/' + shuf[i])"
   ]
  },
  {
   "cell_type": "code",
   "execution_count": 129,
   "metadata": {
    "collapsed": true
   },
   "outputs": [],
   "source": [
    "# now create the sample train subset of 20 per category\n",
    "for c in categories:\n",
    "    g = glob(c+\"/*.jpg\")\n",
    "    shuf = np.random.permutation(g)\n",
    "    for i in range(20): \n",
    "        #print shuf[i], DATA_HOME_DIR+'/sample/train/' + shuf[i]\n",
    "        copyfile(shuf[i], DATA_HOME_DIR+'/sample/train/' + shuf[i])"
   ]
  },
  {
   "cell_type": "code",
   "execution_count": 130,
   "metadata": {
    "collapsed": false
   },
   "outputs": [
    {
     "name": "stdout",
     "output_type": "stream",
     "text": [
      "/home/rallen/Documents/Devel/PracticalDL4C/kaggle/statefarm/data/valid\n"
     ]
    }
   ],
   "source": [
    "%cd $DATA_HOME_DIR/valid"
   ]
  },
  {
   "cell_type": "code",
   "execution_count": 131,
   "metadata": {
    "collapsed": true
   },
   "outputs": [],
   "source": [
    "# now create the sample valid subset of 5 per category\n",
    "for c in categories:\n",
    "    g = glob(c+\"/*.jpg\")\n",
    "    shuf = np.random.permutation(g)\n",
    "    for i in range(5): \n",
    "        #print shuf[i], DATA_HOME_DIR+'/sample/valid/' + shuf[i]\n",
    "        copyfile(shuf[i], DATA_HOME_DIR+'/sample/valid/' + shuf[i])"
   ]
  },
  {
   "cell_type": "code",
   "execution_count": 132,
   "metadata": {
    "collapsed": false
   },
   "outputs": [
    {
     "name": "stdout",
     "output_type": "stream",
     "text": [
      "17863\n",
      "4599\n",
      "79726\n",
      "219\n",
      "69\n"
     ]
    }
   ],
   "source": [
    "!ls {DATA_HOME_DIR}/train/* |wc -l\n",
    "!ls {DATA_HOME_DIR}/valid/* |wc -l\n",
    "!ls {DATA_HOME_DIR}/test/* |wc -l\n",
    "!ls {DATA_HOME_DIR}/sample/train/* |wc -l\n",
    "!ls {DATA_HOME_DIR}/sample/valid/* |wc -l"
   ]
  },
  {
   "cell_type": "code",
   "execution_count": 17,
   "metadata": {
    "collapsed": false
   },
   "outputs": [
    {
     "name": "stdout",
     "output_type": "stream",
     "text": [
      "/home/rallen/Documents/Devel/PracticalDL4C/kaggle/statefarm/data/test\n"
     ]
    }
   ],
   "source": [
    "# Create single 'unknown' class for test set\n",
    "%cd $DATA_HOME_DIR/test\n",
    "%mv *.jpg unknown"
   ]
  },
  {
   "cell_type": "code",
   "execution_count": 5,
   "metadata": {
    "collapsed": false
   },
   "outputs": [
    {
     "name": "stdout",
     "output_type": "stream",
     "text": [
      "/home/rallen/Documents/Devel/PracticalDL4C/kaggle/statefarm/data/sample/test\n"
     ]
    }
   ],
   "source": [
    "# and sample test, too\n",
    "%cd $DATA_HOME_DIR/sample/test\n",
    "%mkdir unknown\n"
   ]
  },
  {
   "cell_type": "code",
   "execution_count": 133,
   "metadata": {
    "collapsed": false
   },
   "outputs": [
    {
     "name": "stdout",
     "output_type": "stream",
     "text": [
      "/home/rallen/Documents/Devel/PracticalDL4C/kaggle/statefarm/data/test/unknown\n"
     ]
    }
   ],
   "source": [
    "# sample the test set\n",
    "%cd $DATA_HOME_DIR/test/unknown\n",
    "g = glob(\"*.jpg\")\n",
    "shuf = np.random.permutation(g)\n",
    "for i in range(100):\n",
    "    #print shuf[i], DATA_HOME_DIR+'/sample/test/unknown/'+shuf[i]\n",
    "    copyfile(shuf[i], DATA_HOME_DIR+'/sample/test/unknown/'+shuf[i])"
   ]
  },
  {
   "cell_type": "markdown",
   "metadata": {
    "collapsed": true
   },
   "source": [
    "# Recreate validation set and sample\n",
    "\n",
    "I messed up when creating my validation set.  Per the forum discussions, you want to split the drivers from training to validation (just like the real test set).  Do this below"
   ]
  },
  {
   "cell_type": "code",
   "execution_count": 3,
   "metadata": {
    "collapsed": false
   },
   "outputs": [
    {
     "name": "stdout",
     "output_type": "stream",
     "text": [
      "/home/rallen/Documents/Devel/PracticalDL4C/kaggle/statefarm/data\n"
     ]
    }
   ],
   "source": [
    "# So, move validation data back.\n",
    "%cd $DATA_HOME_DIR\n",
    "for c in categories:\n",
    "    g = glob(\"valid/\"+c+\"/*.jpg\")\n",
    "    for i in range(len(g)): \n",
    "        #print g[i], g[i].replace('valid','train')\n",
    "        os.rename(g[i], g[i].replace('valid','train'))"
   ]
  },
  {
   "cell_type": "code",
   "execution_count": 4,
   "metadata": {
    "collapsed": false
   },
   "outputs": [
    {
     "name": "stdout",
     "output_type": "stream",
     "text": [
      "/home/rallen/Documents/Devel/PracticalDL4C/kaggle/statefarm/data\n",
      "results  test  train  valid\n"
     ]
    }
   ],
   "source": [
    "%cd $DATA_HOME_DIR\n",
    "!ls sample/\n",
    "#results  test  train  valid"
   ]
  },
  {
   "cell_type": "code",
   "execution_count": 5,
   "metadata": {
    "collapsed": false
   },
   "outputs": [],
   "source": [
    "!rm -rf sample/results/*"
   ]
  },
  {
   "cell_type": "code",
   "execution_count": 6,
   "metadata": {
    "collapsed": true
   },
   "outputs": [],
   "source": [
    "!rm sample/test/unknown/*"
   ]
  },
  {
   "cell_type": "code",
   "execution_count": 7,
   "metadata": {
    "collapsed": true
   },
   "outputs": [],
   "source": [
    "!rm sample/train/c*/*jpg\n",
    "!rm sample/valid/c*/*jpg"
   ]
  },
  {
   "cell_type": "markdown",
   "metadata": {},
   "source": [
    "## Examine the driver_imgs_list.csv"
   ]
  },
  {
   "cell_type": "code",
   "execution_count": 8,
   "metadata": {
    "collapsed": false
   },
   "outputs": [
    {
     "name": "stdout",
     "output_type": "stream",
     "text": [
      "/home/rallen/Documents/Devel/PracticalDL4C/kaggle/statefarm/data\n"
     ]
    }
   ],
   "source": [
    "%cd $DATA_HOME_DIR\n",
    "driver_imgs = pd.read_csv('driver_imgs_list.csv')"
   ]
  },
  {
   "cell_type": "code",
   "execution_count": 9,
   "metadata": {
    "collapsed": false
   },
   "outputs": [
    {
     "data": {
      "text/html": [
       "<div>\n",
       "<table border=\"1\" class=\"dataframe\">\n",
       "  <thead>\n",
       "    <tr style=\"text-align: right;\">\n",
       "      <th></th>\n",
       "      <th>subject</th>\n",
       "      <th>classname</th>\n",
       "      <th>img</th>\n",
       "    </tr>\n",
       "  </thead>\n",
       "  <tbody>\n",
       "    <tr>\n",
       "      <th>0</th>\n",
       "      <td>p002</td>\n",
       "      <td>c0</td>\n",
       "      <td>img_44733.jpg</td>\n",
       "    </tr>\n",
       "    <tr>\n",
       "      <th>1</th>\n",
       "      <td>p002</td>\n",
       "      <td>c0</td>\n",
       "      <td>img_72999.jpg</td>\n",
       "    </tr>\n",
       "    <tr>\n",
       "      <th>2</th>\n",
       "      <td>p002</td>\n",
       "      <td>c0</td>\n",
       "      <td>img_25094.jpg</td>\n",
       "    </tr>\n",
       "    <tr>\n",
       "      <th>3</th>\n",
       "      <td>p002</td>\n",
       "      <td>c0</td>\n",
       "      <td>img_69092.jpg</td>\n",
       "    </tr>\n",
       "    <tr>\n",
       "      <th>4</th>\n",
       "      <td>p002</td>\n",
       "      <td>c0</td>\n",
       "      <td>img_92629.jpg</td>\n",
       "    </tr>\n",
       "  </tbody>\n",
       "</table>\n",
       "</div>"
      ],
      "text/plain": [
       "  subject classname            img\n",
       "0    p002        c0  img_44733.jpg\n",
       "1    p002        c0  img_72999.jpg\n",
       "2    p002        c0  img_25094.jpg\n",
       "3    p002        c0  img_69092.jpg\n",
       "4    p002        c0  img_92629.jpg"
      ]
     },
     "execution_count": 9,
     "metadata": {},
     "output_type": "execute_result"
    }
   ],
   "source": [
    "driver_imgs.head()"
   ]
  },
  {
   "cell_type": "code",
   "execution_count": 10,
   "metadata": {
    "collapsed": false
   },
   "outputs": [],
   "source": [
    "subjects = driver_imgs.subject.unique()"
   ]
  },
  {
   "cell_type": "code",
   "execution_count": 23,
   "metadata": {
    "collapsed": false
   },
   "outputs": [
    {
     "data": {
      "text/plain": [
       "(26, 5)"
      ]
     },
     "execution_count": 23,
     "metadata": {},
     "output_type": "execute_result"
    }
   ],
   "source": [
    "len(subjects), int(0.2*len(subjects))"
   ]
  },
  {
   "cell_type": "code",
   "execution_count": 24,
   "metadata": {
    "collapsed": false
   },
   "outputs": [
    {
     "data": {
      "text/plain": [
       "array(['p002', 'p012', 'p014', 'p015', 'p016', 'p021', 'p022', 'p024',\n",
       "       'p026', 'p035', 'p039', 'p041', 'p042', 'p045', 'p047', 'p049',\n",
       "       'p050', 'p051', 'p052', 'p056', 'p061', 'p064', 'p066', 'p072',\n",
       "       'p075', 'p081'], dtype=object)"
      ]
     },
     "execution_count": 24,
     "metadata": {},
     "output_type": "execute_result"
    }
   ],
   "source": [
    "subjects"
   ]
  },
  {
   "cell_type": "code",
   "execution_count": 11,
   "metadata": {
    "collapsed": false,
    "scrolled": false
   },
   "outputs": [
    {
     "data": {
      "text/html": [
       "<div style=\"float: left;\"><img width=220px height=200px src='/files/kaggle/statefarm/data/train/c0/img_44733.jpg'/>p002</div><div style=\"float: left;\"><img width=220px height=200px src='/files/kaggle/statefarm/data/train/c0/img_10206.jpg'/>p012</div><div style=\"float: left;\"><img width=220px height=200px src='/files/kaggle/statefarm/data/train/c0/img_72495.jpg'/>p014</div><div ><img width=220px height=200px src='/files/kaggle/statefarm/data/train/c0/img_48693.jpg'/>p015</div><div style=\"float: left;\"><img width=220px height=200px src='/files/kaggle/statefarm/data/train/c0/img_51066.jpg'/>p016</div><div style=\"float: left;\"><img width=220px height=200px src='/files/kaggle/statefarm/data/train/c0/img_58285.jpg'/>p021</div><div style=\"float: left;\"><img width=220px height=200px src='/files/kaggle/statefarm/data/train/c0/img_25778.jpg'/>p022</div><div ><img width=220px height=200px src='/files/kaggle/statefarm/data/train/c0/img_66836.jpg'/>p024</div><div style=\"float: left;\"><img width=220px height=200px src='/files/kaggle/statefarm/data/train/c0/img_71021.jpg'/>p026</div><div style=\"float: left;\"><img width=220px height=200px src='/files/kaggle/statefarm/data/train/c0/img_66660.jpg'/>p035</div><div style=\"float: left;\"><img width=220px height=200px src='/files/kaggle/statefarm/data/train/c0/img_25317.jpg'/>p039</div><div ><img width=220px height=200px src='/files/kaggle/statefarm/data/train/c0/img_15934.jpg'/>p041</div><div style=\"float: left;\"><img width=220px height=200px src='/files/kaggle/statefarm/data/train/c0/img_44073.jpg'/>p042</div><div style=\"float: left;\"><img width=220px height=200px src='/files/kaggle/statefarm/data/train/c0/img_38722.jpg'/>p045</div><div style=\"float: left;\"><img width=220px height=200px src='/files/kaggle/statefarm/data/train/c0/img_35373.jpg'/>p047</div><div ><img width=220px height=200px src='/files/kaggle/statefarm/data/train/c0/img_79134.jpg'/>p049</div><div style=\"float: left;\"><img width=220px height=200px src='/files/kaggle/statefarm/data/train/c0/img_68359.jpg'/>p050</div><div style=\"float: left;\"><img width=220px height=200px src='/files/kaggle/statefarm/data/train/c0/img_94824.jpg'/>p051</div><div style=\"float: left;\"><img width=220px height=200px src='/files/kaggle/statefarm/data/train/c0/img_9252.jpg'/>p052</div><div ><img width=220px height=200px src='/files/kaggle/statefarm/data/train/c0/img_32662.jpg'/>p056</div><div style=\"float: left;\"><img width=220px height=200px src='/files/kaggle/statefarm/data/train/c0/img_79017.jpg'/>p061</div><div style=\"float: left;\"><img width=220px height=200px src='/files/kaggle/statefarm/data/train/c0/img_19724.jpg'/>p064</div><div style=\"float: left;\"><img width=220px height=200px src='/files/kaggle/statefarm/data/train/c0/img_22403.jpg'/>p066</div><div ><img width=220px height=200px src='/files/kaggle/statefarm/data/train/c0/img_14047.jpg'/>p072</div><div style=\"float: left;\"><img width=220px height=200px src='/files/kaggle/statefarm/data/train/c0/img_31068.jpg'/>p075</div><div style=\"float: left;\"><img width=220px height=200px src='/files/kaggle/statefarm/data/train/c0/img_73734.jpg'/>p081</div>"
      ],
      "text/plain": [
       "<IPython.core.display.HTML object>"
      ]
     },
     "metadata": {},
     "output_type": "display_data"
    }
   ],
   "source": [
    "# let's look at some subject examples\n",
    "#images = []\n",
    "def img_div(img,txt,idx):\n",
    "    W=220\n",
    "    H=200\n",
    "    N=4\n",
    "    float = idx%N < (N-1) # turn off on last one\n",
    "    fs = \"\"\n",
    "    if float:\n",
    "        fs = 'style=\"float: left;\"'\n",
    "    s = \"<div %s>\"%(fs)\n",
    "    s += \"<img width=%dpx height=%dpx src='%s'/>%s\"%(W,H,img,txt)\n",
    "    s += \"</div>\"\n",
    "    return s\n",
    "\n",
    "def show_subjects(subj):\n",
    "    html = \"\"\n",
    "    for j,s in enumerate(subj):\n",
    "        i = driver_imgs[driver_imgs.subject == s].index[0]\n",
    "        classname = driver_imgs.iloc[i].classname\n",
    "        img = driver_imgs.iloc[i].img\n",
    "        html += img_div(\"/files/kaggle/statefarm/data/train/\"+classname+\"/\"+img, s, j)\n",
    "    display(HTML(html))\n",
    "    \n",
    "show_subjects(subjects)"
   ]
  },
  {
   "cell_type": "code",
   "execution_count": 12,
   "metadata": {
    "collapsed": true
   },
   "outputs": [],
   "source": [
    "# we should probably make sure validation & testing both have male/female representation\n",
    "# males \n",
    "males = ['p002', 'p012', 'p014', 'p015', 'p016', 'p021', 'p024', 'p026', 'p035', 'p039', 'p047', 'p051', 'p056', 'p075']\n",
    "# females \n",
    "females = ['p022', 'p041', 'p042', 'p045', 'p049', 'p050', 'p052', 'p061', 'p064', 'p066', 'p072', 'p081']"
   ]
  },
  {
   "cell_type": "code",
   "execution_count": 13,
   "metadata": {
    "collapsed": false
   },
   "outputs": [
    {
     "data": {
      "text/html": [
       "<div style=\"float: left;\"><img width=220px height=200px src='/files/kaggle/statefarm/data/train/c0/img_44733.jpg'/>p002</div><div style=\"float: left;\"><img width=220px height=200px src='/files/kaggle/statefarm/data/train/c0/img_10206.jpg'/>p012</div><div style=\"float: left;\"><img width=220px height=200px src='/files/kaggle/statefarm/data/train/c0/img_72495.jpg'/>p014</div><div ><img width=220px height=200px src='/files/kaggle/statefarm/data/train/c0/img_48693.jpg'/>p015</div><div style=\"float: left;\"><img width=220px height=200px src='/files/kaggle/statefarm/data/train/c0/img_51066.jpg'/>p016</div><div style=\"float: left;\"><img width=220px height=200px src='/files/kaggle/statefarm/data/train/c0/img_58285.jpg'/>p021</div><div style=\"float: left;\"><img width=220px height=200px src='/files/kaggle/statefarm/data/train/c0/img_66836.jpg'/>p024</div><div ><img width=220px height=200px src='/files/kaggle/statefarm/data/train/c0/img_71021.jpg'/>p026</div><div style=\"float: left;\"><img width=220px height=200px src='/files/kaggle/statefarm/data/train/c0/img_66660.jpg'/>p035</div><div style=\"float: left;\"><img width=220px height=200px src='/files/kaggle/statefarm/data/train/c0/img_25317.jpg'/>p039</div><div style=\"float: left;\"><img width=220px height=200px src='/files/kaggle/statefarm/data/train/c0/img_35373.jpg'/>p047</div><div ><img width=220px height=200px src='/files/kaggle/statefarm/data/train/c0/img_94824.jpg'/>p051</div><div style=\"float: left;\"><img width=220px height=200px src='/files/kaggle/statefarm/data/train/c0/img_32662.jpg'/>p056</div><div style=\"float: left;\"><img width=220px height=200px src='/files/kaggle/statefarm/data/train/c0/img_31068.jpg'/>p075</div>"
      ],
      "text/plain": [
       "<IPython.core.display.HTML object>"
      ]
     },
     "metadata": {},
     "output_type": "display_data"
    }
   ],
   "source": [
    "show_subjects(males)"
   ]
  },
  {
   "cell_type": "code",
   "execution_count": 14,
   "metadata": {
    "collapsed": false
   },
   "outputs": [
    {
     "data": {
      "text/html": [
       "<div style=\"float: left;\"><img width=220px height=200px src='/files/kaggle/statefarm/data/train/c0/img_25778.jpg'/>p022</div><div style=\"float: left;\"><img width=220px height=200px src='/files/kaggle/statefarm/data/train/c0/img_15934.jpg'/>p041</div><div style=\"float: left;\"><img width=220px height=200px src='/files/kaggle/statefarm/data/train/c0/img_44073.jpg'/>p042</div><div ><img width=220px height=200px src='/files/kaggle/statefarm/data/train/c0/img_38722.jpg'/>p045</div><div style=\"float: left;\"><img width=220px height=200px src='/files/kaggle/statefarm/data/train/c0/img_79134.jpg'/>p049</div><div style=\"float: left;\"><img width=220px height=200px src='/files/kaggle/statefarm/data/train/c0/img_68359.jpg'/>p050</div><div style=\"float: left;\"><img width=220px height=200px src='/files/kaggle/statefarm/data/train/c0/img_9252.jpg'/>p052</div><div ><img width=220px height=200px src='/files/kaggle/statefarm/data/train/c0/img_79017.jpg'/>p061</div><div style=\"float: left;\"><img width=220px height=200px src='/files/kaggle/statefarm/data/train/c0/img_19724.jpg'/>p064</div><div style=\"float: left;\"><img width=220px height=200px src='/files/kaggle/statefarm/data/train/c0/img_22403.jpg'/>p066</div><div style=\"float: left;\"><img width=220px height=200px src='/files/kaggle/statefarm/data/train/c0/img_14047.jpg'/>p072</div><div ><img width=220px height=200px src='/files/kaggle/statefarm/data/train/c0/img_73734.jpg'/>p081</div>"
      ],
      "text/plain": [
       "<IPython.core.display.HTML object>"
      ]
     },
     "metadata": {},
     "output_type": "display_data"
    }
   ],
   "source": [
    "show_subjects(females)"
   ]
  },
  {
   "cell_type": "code",
   "execution_count": 15,
   "metadata": {
    "collapsed": false
   },
   "outputs": [
    {
     "data": {
      "text/plain": [
       "(14, 12, 26)"
      ]
     },
     "execution_count": 15,
     "metadata": {},
     "output_type": "execute_result"
    }
   ],
   "source": [
    "len(males), len(females), len(subjects)"
   ]
  },
  {
   "cell_type": "code",
   "execution_count": 72,
   "metadata": {
    "collapsed": false
   },
   "outputs": [
    {
     "data": {
      "text/plain": [
       "(2.8000000000000003, 2.4000000000000004)"
      ]
     },
     "execution_count": 72,
     "metadata": {},
     "output_type": "execute_result"
    }
   ],
   "source": [
    "0.2*len(males), 0.2*len(females)\n",
    "# okay 3 males & 2 females in our validation set\n",
    "# choosing p045, p049 females"
   ]
  },
  {
   "cell_type": "code",
   "execution_count": 78,
   "metadata": {
    "collapsed": false
   },
   "outputs": [
    {
     "data": {
      "text/plain": [
       "set()"
      ]
     },
     "execution_count": 78,
     "metadata": {},
     "output_type": "execute_result"
    }
   ],
   "source": [
    "set(males).intersection(set(females))"
   ]
  },
  {
   "cell_type": "code",
   "execution_count": 83,
   "metadata": {
    "collapsed": false
   },
   "outputs": [
    {
     "data": {
      "text/plain": [
       "array(['p035', 'p056', 'p075'], \n",
       "      dtype='|S4')"
      ]
     },
     "execution_count": 83,
     "metadata": {},
     "output_type": "execute_result"
    }
   ],
   "source": [
    "np.random.permutation(males)[:3]\n",
    "# gave ['p035', 'p056', 'p075']"
   ]
  },
  {
   "cell_type": "code",
   "execution_count": 16,
   "metadata": {
    "collapsed": true
   },
   "outputs": [],
   "source": [
    "# okay this is the set I came up with.  BUT, Jeremy says he only used 3\n",
    "validation_subjects = ['p021', 'p056', 'p075'] + ['p045', 'p049']\n",
    "# let's try 3, then.\n",
    "validation_subjects = ['p021', 'p056'] + ['p045']"
   ]
  },
  {
   "cell_type": "code",
   "execution_count": 17,
   "metadata": {
    "collapsed": false
   },
   "outputs": [
    {
     "data": {
      "text/html": [
       "<div style=\"float: left;\"><img width=220px height=200px src='/files/kaggle/statefarm/data/train/c0/img_58285.jpg'/>p021</div><div style=\"float: left;\"><img width=220px height=200px src='/files/kaggle/statefarm/data/train/c0/img_32662.jpg'/>p056</div><div style=\"float: left;\"><img width=220px height=200px src='/files/kaggle/statefarm/data/train/c0/img_38722.jpg'/>p045</div>"
      ],
      "text/plain": [
       "<IPython.core.display.HTML object>"
      ]
     },
     "metadata": {},
     "output_type": "display_data"
    }
   ],
   "source": [
    "show_subjects(validation_subjects)"
   ]
  },
  {
   "cell_type": "code",
   "execution_count": 18,
   "metadata": {
    "collapsed": false
   },
   "outputs": [],
   "source": [
    "validation_df = driver_imgs[driver_imgs.subject.isin(validation_subjects)]"
   ]
  },
  {
   "cell_type": "code",
   "execution_count": 20,
   "metadata": {
    "collapsed": false
   },
   "outputs": [],
   "source": [
    "# move our validation images from train to valid\n",
    "for i,x in validation_df.iterrows():\n",
    "    #if i < 10:\n",
    "    #    print x.classname, x.img\n",
    "    fr = DATA_HOME_DIR+'/train/' + x.classname + '/' + x.img\n",
    "    to = DATA_HOME_DIR+'/valid/' + x.classname + '/' + x.img\n",
    "    #print fr, to\n",
    "    os.rename(fr,to)"
   ]
  },
  {
   "cell_type": "code",
   "execution_count": 21,
   "metadata": {
    "collapsed": false
   },
   "outputs": [
    {
     "name": "stdout",
     "output_type": "stream",
     "text": [
      "/home/rallen/Documents/Devel/PracticalDL4C/kaggle/statefarm/data/valid\n",
      "c0 291\n",
      "c1 286\n",
      "c2 283\n",
      "c3 281\n",
      "c4 289\n",
      "c5 287\n",
      "c6 277\n",
      "c7 239\n",
      "c8 248\n",
      "c9 274\n"
     ]
    }
   ],
   "source": [
    "%cd $DATA_HOME_DIR/valid\n",
    "# how many images we talking about?\n",
    "for c in categories:\n",
    "    g = glob(c+\"/*.jpg\")\n",
    "    print c, len(g)"
   ]
  },
  {
   "cell_type": "code",
   "execution_count": null,
   "metadata": {
    "collapsed": true
   },
   "outputs": [],
   "source": []
  }
 ],
 "metadata": {
  "kernelspec": {
   "display_name": "Python [conda root]",
   "language": "python",
   "name": "conda-root-py"
  },
  "language_info": {
   "codemirror_mode": {
    "name": "ipython",
    "version": 2
   },
   "file_extension": ".py",
   "mimetype": "text/x-python",
   "name": "python",
   "nbconvert_exporter": "python",
   "pygments_lexer": "ipython2",
   "version": "2.7.13"
  }
 },
 "nbformat": 4,
 "nbformat_minor": 2
}
